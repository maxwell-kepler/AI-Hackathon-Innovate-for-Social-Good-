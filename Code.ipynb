{
  "cells": [
    {
      "cell_type": "markdown",
      "metadata": {
        "id": "OWZZfTEpjL7c"
      },
      "source": [
        "# Import Libraries"
      ]
    },
    {
      "cell_type": "code",
      "execution_count": 1,
      "metadata": {
        "colab": {
          "base_uri": "https://localhost:8080/"
        },
        "id": "7n7x4TSKdzWY",
        "outputId": "e7950f36-b042-41a3-b445-afa266c37edd"
      },
      "outputs": [
        {
          "name": "stderr",
          "output_type": "stream",
          "text": [
            "[nltk_data] Downloading package punkt to /root/nltk_data...\n",
            "[nltk_data]   Package punkt is already up-to-date!\n"
          ]
        }
      ],
      "source": [
        "# DataFrame\n",
        "import pandas as pd\n",
        "\n",
        "# Matplot\n",
        "import matplotlib.pyplot as plt\n",
        "import seaborn as sns\n",
        "\n",
        "# Utility\n",
        "import numpy as np\n",
        "import re\n",
        "import spacy\n",
        "import warnings\n",
        "warnings.filterwarnings('ignore')\n",
        "\n",
        "# Text processing with nltk\n",
        "import nltk\n",
        "from nltk.corpus import stopwords\n",
        "from  nltk.stem import SnowballStemmer\n",
        "nltk.download('punkt')\n",
        "from nltk.tokenize import word_tokenize\n",
        "from nltk.probability import FreqDist\n",
        "\n",
        "# Scikit-learn\n",
        "from sklearn.metrics import confusion_matrix, accuracy_score, precision_score, recall_score, f1_score\n",
        "from sklearn.feature_extraction.text import CountVectorizer\n",
        "from sklearn.model_selection import cross_val_predict, StratifiedKFold\n",
        "from sklearn.feature_selection import SelectKBest, f_classif\n",
        "from sklearn.linear_model import RidgeClassifier\n",
        "from sklearn.naive_bayes import MultinomialNB\n",
        "from sklearn.svm import SVC\n",
        "from sklearn.pipeline import Pipeline\n"
      ]
    },
    {
      "cell_type": "markdown",
      "metadata": {
        "id": "rTr2nlGBjShB"
      },
      "source": [
        "# Data Input\n",
        "This dataset is from: https://www.kaggle.com/competitions/nlp-getting-started/data?select=test.csv\n",
        "\n",
        "The dataset is a series of tweets, along with location and keyword data. The goal of the model is to classify if the tweet is talking about a disater or not."
      ]
    },
    {
      "cell_type": "markdown",
      "metadata": {
        "id": "lno3x_MjTTBd"
      },
      "source": [
        "## Column Description (from Kaggle)\n",
        "- id - a unique identifier for each tweet\n",
        "- text - the text of the tweet\n",
        "- location - the location the tweet was sent from (may be blank)\n",
        "- keyword - a particular keyword from the tweet (may be blank)\n",
        "- target - in train.csv only, this denotes whether a tweet is about a real disaster (1) or not (0)"
      ]
    },
    {
      "cell_type": "markdown",
      "metadata": {
        "id": "vWHxvRZae_ki"
      },
      "source": [
        "# Exploratory Data Analysis\n"
      ]
    },
    {
      "cell_type": "code",
      "execution_count": 2,
      "metadata": {
        "colab": {
          "base_uri": "https://localhost:8080/"
        },
        "id": "YblUV9gle0Z9",
        "outputId": "d3c6b7bc-06c5-4cea-c731-246d7d955009"
      },
      "outputs": [
        {
          "data": {
            "text/plain": [
              "0.33272034677525286"
            ]
          },
          "execution_count": 2,
          "metadata": {},
          "output_type": "execute_result"
        }
      ],
      "source": [
        "df = pd.read_csv(\"/content/data.csv\") #This project was built through Google Colab, thus /content/ is on the file path \n",
        "df.head()\n",
        "df.shape\n",
        "2533 / 7613"
      ]
    },
    {
      "cell_type": "markdown",
      "metadata": {
        "id": "wAkPBWH7Pfy3"
      },
      "source": [
        "## Decode target as labels"
      ]
    },
    {
      "cell_type": "code",
      "execution_count": 3,
      "metadata": {
        "id": "atmlyOoEfO5k"
      },
      "outputs": [],
      "source": [
        "decode_map = {0: \"Not Disastrous\", 1: \"Disastrous\"}\n",
        "def decode_sentiment(label):\n",
        "    return decode_map[int(label)]\n",
        "df.loc[:, 'label'] = df.target.apply(lambda x: decode_sentiment(x))"
      ]
    },
    {
      "cell_type": "code",
      "execution_count": 4,
      "metadata": {
        "colab": {
          "base_uri": "https://localhost:8080/",
          "height": 206
        },
        "id": "vfWspgSRfTnI",
        "outputId": "3a2815cc-78e0-4183-d529-f8c38b09d9c5"
      },
      "outputs": [
        {
          "data": {
            "application/vnd.google.colaboratory.intrinsic+json": {
              "summary": "{\n  \"name\": \"df\",\n  \"rows\": 7613,\n  \"fields\": [\n    {\n      \"column\": \"id\",\n      \"properties\": {\n        \"dtype\": \"number\",\n        \"std\": 3137,\n        \"min\": 1,\n        \"max\": 10873,\n        \"num_unique_values\": 7613,\n        \"samples\": [\n          3796,\n          3185,\n          7769\n        ],\n        \"semantic_type\": \"\",\n        \"description\": \"\"\n      }\n    },\n    {\n      \"column\": \"keyword\",\n      \"properties\": {\n        \"dtype\": \"category\",\n        \"num_unique_values\": 221,\n        \"samples\": [\n          \"injury\",\n          \"nuclear%20reactor\",\n          \"engulfed\"\n        ],\n        \"semantic_type\": \"\",\n        \"description\": \"\"\n      }\n    },\n    {\n      \"column\": \"location\",\n      \"properties\": {\n        \"dtype\": \"category\",\n        \"num_unique_values\": 3341,\n        \"samples\": [\n          \"Oklahoma\",\n          \"Starling City\",\n          \"Trinidad and Tobago\"\n        ],\n        \"semantic_type\": \"\",\n        \"description\": \"\"\n      }\n    },\n    {\n      \"column\": \"text\",\n      \"properties\": {\n        \"dtype\": \"string\",\n        \"num_unique_values\": 7503,\n        \"samples\": [\n          \"Three Homes Demolished in Unrecognized Arab Village - International Middle East Media Center http://t.co/ik8m4Yi9T4\",\n          \"Reid Lake fire prompts campground evacuation order http://t.co/jBODKM6rBU\",\n          \"FAAN orders evacuation of abandoned aircraft at MMA http://t.co/dEvYbnVXGQ via @todayng\"\n        ],\n        \"semantic_type\": \"\",\n        \"description\": \"\"\n      }\n    },\n    {\n      \"column\": \"target\",\n      \"properties\": {\n        \"dtype\": \"number\",\n        \"std\": 0,\n        \"min\": 0,\n        \"max\": 1,\n        \"num_unique_values\": 2,\n        \"samples\": [\n          0,\n          1\n        ],\n        \"semantic_type\": \"\",\n        \"description\": \"\"\n      }\n    },\n    {\n      \"column\": \"label\",\n      \"properties\": {\n        \"dtype\": \"category\",\n        \"num_unique_values\": 2,\n        \"samples\": [\n          \"Not Disastrous\",\n          \"Disastrous\"\n        ],\n        \"semantic_type\": \"\",\n        \"description\": \"\"\n      }\n    }\n  ]\n}",
              "type": "dataframe",
              "variable_name": "df"
            },
            "text/html": [
              "\n",
              "  <div id=\"df-7cb83673-bcc1-48f8-98d4-44db6e469ef5\" class=\"colab-df-container\">\n",
              "    <div>\n",
              "<style scoped>\n",
              "    .dataframe tbody tr th:only-of-type {\n",
              "        vertical-align: middle;\n",
              "    }\n",
              "\n",
              "    .dataframe tbody tr th {\n",
              "        vertical-align: top;\n",
              "    }\n",
              "\n",
              "    .dataframe thead th {\n",
              "        text-align: right;\n",
              "    }\n",
              "</style>\n",
              "<table border=\"1\" class=\"dataframe\">\n",
              "  <thead>\n",
              "    <tr style=\"text-align: right;\">\n",
              "      <th></th>\n",
              "      <th>id</th>\n",
              "      <th>keyword</th>\n",
              "      <th>location</th>\n",
              "      <th>text</th>\n",
              "      <th>target</th>\n",
              "      <th>label</th>\n",
              "    </tr>\n",
              "  </thead>\n",
              "  <tbody>\n",
              "    <tr>\n",
              "      <th>0</th>\n",
              "      <td>1</td>\n",
              "      <td>NaN</td>\n",
              "      <td>NaN</td>\n",
              "      <td>Our Deeds are the Reason of this #earthquake M...</td>\n",
              "      <td>1</td>\n",
              "      <td>Disastrous</td>\n",
              "    </tr>\n",
              "    <tr>\n",
              "      <th>1</th>\n",
              "      <td>4</td>\n",
              "      <td>NaN</td>\n",
              "      <td>NaN</td>\n",
              "      <td>Forest fire near La Ronge Sask. Canada</td>\n",
              "      <td>1</td>\n",
              "      <td>Disastrous</td>\n",
              "    </tr>\n",
              "    <tr>\n",
              "      <th>2</th>\n",
              "      <td>5</td>\n",
              "      <td>NaN</td>\n",
              "      <td>NaN</td>\n",
              "      <td>All residents asked to 'shelter in place' are ...</td>\n",
              "      <td>1</td>\n",
              "      <td>Disastrous</td>\n",
              "    </tr>\n",
              "    <tr>\n",
              "      <th>3</th>\n",
              "      <td>6</td>\n",
              "      <td>NaN</td>\n",
              "      <td>NaN</td>\n",
              "      <td>13,000 people receive #wildfires evacuation or...</td>\n",
              "      <td>1</td>\n",
              "      <td>Disastrous</td>\n",
              "    </tr>\n",
              "    <tr>\n",
              "      <th>4</th>\n",
              "      <td>7</td>\n",
              "      <td>NaN</td>\n",
              "      <td>NaN</td>\n",
              "      <td>Just got sent this photo from Ruby #Alaska as ...</td>\n",
              "      <td>1</td>\n",
              "      <td>Disastrous</td>\n",
              "    </tr>\n",
              "  </tbody>\n",
              "</table>\n",
              "</div>\n",
              "    <div class=\"colab-df-buttons\">\n",
              "\n",
              "  <div class=\"colab-df-container\">\n",
              "    <button class=\"colab-df-convert\" onclick=\"convertToInteractive('df-7cb83673-bcc1-48f8-98d4-44db6e469ef5')\"\n",
              "            title=\"Convert this dataframe to an interactive table.\"\n",
              "            style=\"display:none;\">\n",
              "\n",
              "  <svg xmlns=\"http://www.w3.org/2000/svg\" height=\"24px\" viewBox=\"0 -960 960 960\">\n",
              "    <path d=\"M120-120v-720h720v720H120Zm60-500h600v-160H180v160Zm220 220h160v-160H400v160Zm0 220h160v-160H400v160ZM180-400h160v-160H180v160Zm440 0h160v-160H620v160ZM180-180h160v-160H180v160Zm440 0h160v-160H620v160Z\"/>\n",
              "  </svg>\n",
              "    </button>\n",
              "\n",
              "  <style>\n",
              "    .colab-df-container {\n",
              "      display:flex;\n",
              "      gap: 12px;\n",
              "    }\n",
              "\n",
              "    .colab-df-convert {\n",
              "      background-color: #E8F0FE;\n",
              "      border: none;\n",
              "      border-radius: 50%;\n",
              "      cursor: pointer;\n",
              "      display: none;\n",
              "      fill: #1967D2;\n",
              "      height: 32px;\n",
              "      padding: 0 0 0 0;\n",
              "      width: 32px;\n",
              "    }\n",
              "\n",
              "    .colab-df-convert:hover {\n",
              "      background-color: #E2EBFA;\n",
              "      box-shadow: 0px 1px 2px rgba(60, 64, 67, 0.3), 0px 1px 3px 1px rgba(60, 64, 67, 0.15);\n",
              "      fill: #174EA6;\n",
              "    }\n",
              "\n",
              "    .colab-df-buttons div {\n",
              "      margin-bottom: 4px;\n",
              "    }\n",
              "\n",
              "    [theme=dark] .colab-df-convert {\n",
              "      background-color: #3B4455;\n",
              "      fill: #D2E3FC;\n",
              "    }\n",
              "\n",
              "    [theme=dark] .colab-df-convert:hover {\n",
              "      background-color: #434B5C;\n",
              "      box-shadow: 0px 1px 3px 1px rgba(0, 0, 0, 0.15);\n",
              "      filter: drop-shadow(0px 1px 2px rgba(0, 0, 0, 0.3));\n",
              "      fill: #FFFFFF;\n",
              "    }\n",
              "  </style>\n",
              "\n",
              "    <script>\n",
              "      const buttonEl =\n",
              "        document.querySelector('#df-7cb83673-bcc1-48f8-98d4-44db6e469ef5 button.colab-df-convert');\n",
              "      buttonEl.style.display =\n",
              "        google.colab.kernel.accessAllowed ? 'block' : 'none';\n",
              "\n",
              "      async function convertToInteractive(key) {\n",
              "        const element = document.querySelector('#df-7cb83673-bcc1-48f8-98d4-44db6e469ef5');\n",
              "        const dataTable =\n",
              "          await google.colab.kernel.invokeFunction('convertToInteractive',\n",
              "                                                    [key], {});\n",
              "        if (!dataTable) return;\n",
              "\n",
              "        const docLinkHtml = 'Like what you see? Visit the ' +\n",
              "          '<a target=\"_blank\" href=https://colab.research.google.com/notebooks/data_table.ipynb>data table notebook</a>'\n",
              "          + ' to learn more about interactive tables.';\n",
              "        element.innerHTML = '';\n",
              "        dataTable['output_type'] = 'display_data';\n",
              "        await google.colab.output.renderOutput(dataTable, element);\n",
              "        const docLink = document.createElement('div');\n",
              "        docLink.innerHTML = docLinkHtml;\n",
              "        element.appendChild(docLink);\n",
              "      }\n",
              "    </script>\n",
              "  </div>\n",
              "\n",
              "\n",
              "<div id=\"df-05e8b2ec-e254-48af-9f40-1ea4e8e4bd45\">\n",
              "  <button class=\"colab-df-quickchart\" onclick=\"quickchart('df-05e8b2ec-e254-48af-9f40-1ea4e8e4bd45')\"\n",
              "            title=\"Suggest charts\"\n",
              "            style=\"display:none;\">\n",
              "\n",
              "<svg xmlns=\"http://www.w3.org/2000/svg\" height=\"24px\"viewBox=\"0 0 24 24\"\n",
              "     width=\"24px\">\n",
              "    <g>\n",
              "        <path d=\"M19 3H5c-1.1 0-2 .9-2 2v14c0 1.1.9 2 2 2h14c1.1 0 2-.9 2-2V5c0-1.1-.9-2-2-2zM9 17H7v-7h2v7zm4 0h-2V7h2v10zm4 0h-2v-4h2v4z\"/>\n",
              "    </g>\n",
              "</svg>\n",
              "  </button>\n",
              "\n",
              "<style>\n",
              "  .colab-df-quickchart {\n",
              "      --bg-color: #E8F0FE;\n",
              "      --fill-color: #1967D2;\n",
              "      --hover-bg-color: #E2EBFA;\n",
              "      --hover-fill-color: #174EA6;\n",
              "      --disabled-fill-color: #AAA;\n",
              "      --disabled-bg-color: #DDD;\n",
              "  }\n",
              "\n",
              "  [theme=dark] .colab-df-quickchart {\n",
              "      --bg-color: #3B4455;\n",
              "      --fill-color: #D2E3FC;\n",
              "      --hover-bg-color: #434B5C;\n",
              "      --hover-fill-color: #FFFFFF;\n",
              "      --disabled-bg-color: #3B4455;\n",
              "      --disabled-fill-color: #666;\n",
              "  }\n",
              "\n",
              "  .colab-df-quickchart {\n",
              "    background-color: var(--bg-color);\n",
              "    border: none;\n",
              "    border-radius: 50%;\n",
              "    cursor: pointer;\n",
              "    display: none;\n",
              "    fill: var(--fill-color);\n",
              "    height: 32px;\n",
              "    padding: 0;\n",
              "    width: 32px;\n",
              "  }\n",
              "\n",
              "  .colab-df-quickchart:hover {\n",
              "    background-color: var(--hover-bg-color);\n",
              "    box-shadow: 0 1px 2px rgba(60, 64, 67, 0.3), 0 1px 3px 1px rgba(60, 64, 67, 0.15);\n",
              "    fill: var(--button-hover-fill-color);\n",
              "  }\n",
              "\n",
              "  .colab-df-quickchart-complete:disabled,\n",
              "  .colab-df-quickchart-complete:disabled:hover {\n",
              "    background-color: var(--disabled-bg-color);\n",
              "    fill: var(--disabled-fill-color);\n",
              "    box-shadow: none;\n",
              "  }\n",
              "\n",
              "  .colab-df-spinner {\n",
              "    border: 2px solid var(--fill-color);\n",
              "    border-color: transparent;\n",
              "    border-bottom-color: var(--fill-color);\n",
              "    animation:\n",
              "      spin 1s steps(1) infinite;\n",
              "  }\n",
              "\n",
              "  @keyframes spin {\n",
              "    0% {\n",
              "      border-color: transparent;\n",
              "      border-bottom-color: var(--fill-color);\n",
              "      border-left-color: var(--fill-color);\n",
              "    }\n",
              "    20% {\n",
              "      border-color: transparent;\n",
              "      border-left-color: var(--fill-color);\n",
              "      border-top-color: var(--fill-color);\n",
              "    }\n",
              "    30% {\n",
              "      border-color: transparent;\n",
              "      border-left-color: var(--fill-color);\n",
              "      border-top-color: var(--fill-color);\n",
              "      border-right-color: var(--fill-color);\n",
              "    }\n",
              "    40% {\n",
              "      border-color: transparent;\n",
              "      border-right-color: var(--fill-color);\n",
              "      border-top-color: var(--fill-color);\n",
              "    }\n",
              "    60% {\n",
              "      border-color: transparent;\n",
              "      border-right-color: var(--fill-color);\n",
              "    }\n",
              "    80% {\n",
              "      border-color: transparent;\n",
              "      border-right-color: var(--fill-color);\n",
              "      border-bottom-color: var(--fill-color);\n",
              "    }\n",
              "    90% {\n",
              "      border-color: transparent;\n",
              "      border-bottom-color: var(--fill-color);\n",
              "    }\n",
              "  }\n",
              "</style>\n",
              "\n",
              "  <script>\n",
              "    async function quickchart(key) {\n",
              "      const quickchartButtonEl =\n",
              "        document.querySelector('#' + key + ' button');\n",
              "      quickchartButtonEl.disabled = true;  // To prevent multiple clicks.\n",
              "      quickchartButtonEl.classList.add('colab-df-spinner');\n",
              "      try {\n",
              "        const charts = await google.colab.kernel.invokeFunction(\n",
              "            'suggestCharts', [key], {});\n",
              "      } catch (error) {\n",
              "        console.error('Error during call to suggestCharts:', error);\n",
              "      }\n",
              "      quickchartButtonEl.classList.remove('colab-df-spinner');\n",
              "      quickchartButtonEl.classList.add('colab-df-quickchart-complete');\n",
              "    }\n",
              "    (() => {\n",
              "      let quickchartButtonEl =\n",
              "        document.querySelector('#df-05e8b2ec-e254-48af-9f40-1ea4e8e4bd45 button');\n",
              "      quickchartButtonEl.style.display =\n",
              "        google.colab.kernel.accessAllowed ? 'block' : 'none';\n",
              "    })();\n",
              "  </script>\n",
              "</div>\n",
              "\n",
              "    </div>\n",
              "  </div>\n"
            ],
            "text/plain": [
              "   id keyword location                                               text  \\\n",
              "0   1     NaN      NaN  Our Deeds are the Reason of this #earthquake M...   \n",
              "1   4     NaN      NaN             Forest fire near La Ronge Sask. Canada   \n",
              "2   5     NaN      NaN  All residents asked to 'shelter in place' are ...   \n",
              "3   6     NaN      NaN  13,000 people receive #wildfires evacuation or...   \n",
              "4   7     NaN      NaN  Just got sent this photo from Ruby #Alaska as ...   \n",
              "\n",
              "   target       label  \n",
              "0       1  Disastrous  \n",
              "1       1  Disastrous  \n",
              "2       1  Disastrous  \n",
              "3       1  Disastrous  \n",
              "4       1  Disastrous  "
            ]
          },
          "execution_count": 4,
          "metadata": {},
          "output_type": "execute_result"
        }
      ],
      "source": [
        "df.head()"
      ]
    },
    {
      "cell_type": "markdown",
      "metadata": {
        "id": "c7cYCG9lPtc3"
      },
      "source": [
        "## Check for null values"
      ]
    },
    {
      "cell_type": "code",
      "execution_count": 5,
      "metadata": {
        "colab": {
          "base_uri": "https://localhost:8080/"
        },
        "id": "dlVpkUSOfXbo",
        "outputId": "e73e1765-e976-45d8-9e34-7e00dfc1952a"
      },
      "outputs": [
        {
          "name": "stdout",
          "output_type": "stream",
          "text": [
            "null values in each column:\n",
            "\n",
            " id             0\n",
            "keyword       61\n",
            "location    2533\n",
            "text           0\n",
            "target         0\n",
            "label          0\n",
            "dtype: int64\n"
          ]
        }
      ],
      "source": [
        "print('null values in each column:\\n\\n', df.isnull().sum())"
      ]
    },
    {
      "cell_type": "code",
      "execution_count": 6,
      "metadata": {
        "colab": {
          "base_uri": "https://localhost:8080/"
        },
        "id": "FjxOgYsFfd-C",
        "outputId": "e1eb0ed3-7eb8-4851-9eae-29a5340dad8e"
      },
      "outputs": [
        {
          "data": {
            "text/plain": [
              "id          0\n",
              "keyword     0\n",
              "location    0\n",
              "text        0\n",
              "target      0\n",
              "label       0\n",
              "dtype: int64"
            ]
          },
          "execution_count": 6,
          "metadata": {},
          "output_type": "execute_result"
        }
      ],
      "source": [
        "df.keyword.fillna('no_keyword', inplace = True)\n",
        "df.location.fillna('no_location', inplace = True)\n",
        "df.isnull().sum()"
      ]
    },
    {
      "cell_type": "markdown",
      "metadata": {
        "id": "p3UjAZi7P05D"
      },
      "source": [
        "## Plot the data"
      ]
    },
    {
      "cell_type": "markdown",
      "metadata": {
        "id": "ryUs4hMEP63F"
      },
      "source": [
        "### Number of tweets per label"
      ]
    },
    {
      "cell_type": "code",
      "execution_count": 7,
      "metadata": {
        "colab": {
          "base_uri": "https://localhost:8080/",
          "height": 472
        },
        "id": "j0q8S_dH9f_X",
        "outputId": "4887a357-3913-4d1e-e9d0-bfd7648ea19a"
      },
      "outputs": [
        {
          "data": {
            "image/png": "[encoded data removed]",
            "text/plain": [
              "<Figure size 640x480 with 1 Axes>"
            ]
          },
          "metadata": {},
          "output_type": "display_data"
        }
      ],
      "source": [
        "sns.countplot(x = 'label', data = df)\n",
        "plt.title('Number of tweets per label')\n",
        "plt.show()\n"
      ]
    },
    {
      "cell_type": "markdown",
      "metadata": {
        "id": "0ZHF8Pg2QA3m"
      },
      "source": [
        "### Top 30 Locations"
      ]
    },
    {
      "cell_type": "code",
      "execution_count": 8,
      "metadata": {
        "colab": {
          "base_uri": "https://localhost:8080/",
          "height": 564
        },
        "id": "-SeNtM5T9sBG",
        "outputId": "116ec8c3-6753-464e-8cf2-53b68cc79969"
      },
      "outputs": [
        {
          "data": {
            "image/png": "[encoded data removed]",
            "text/plain": [
              "<Figure size 600x600 with 1 Axes>"
            ]
          },
          "metadata": {},
          "output_type": "display_data"
        }
      ],
      "source": [
        "top_locations = df['location'].value_counts().head(30) #Get top 30 locations\n",
        "plt.figure(figsize=(6, 6))\n",
        "sns.barplot(x=top_locations.values, y=top_locations.index)\n",
        "plt.xlabel('Number of tweets')\n",
        "plt.ylabel('Location')\n",
        "plt.title('Top 30 locations')\n",
        "plt.show()\n"
      ]
    },
    {
      "cell_type": "markdown",
      "metadata": {
        "id": "W9Ua4e-m94S1"
      },
      "source": [
        "# Text Preprocessing"
      ]
    },
    {
      "cell_type": "markdown",
      "metadata": {
        "id": "IP11oGB1Q3tg"
      },
      "source": [
        "## Filter out special characters"
      ]
    },
    {
      "cell_type": "code",
      "execution_count": 9,
      "metadata": {
        "id": "rzVlUFEt92xI"
      },
      "outputs": [],
      "source": [
        "def FilterSpecialChars(text:str) -> str:\n",
        "    '''\n",
        "    1. Converts the text to lowercase\n",
        "    2. Uses regex to remove all hyperlinks\n",
        "    3. Uses regex to remove all hashtags and mentions\n",
        "    4. Removes patterns\n",
        "    5. Filter out punctuation\n",
        "    6. Remove digits\n",
        "    7. Filter out all single letters, excluding \"I\" and \"a\"\n",
        "    RETURNS: cleaned text\n",
        "    '''\n",
        "    text = text.lower()\n",
        "    text = re.sub(r\"\\S*https?:\\S*\", \"\", text)\n",
        "    text = re.sub(r'[\\#]', '', text)\n",
        "    rep_character_entity_refrences = {'&amp;': '&','&lt;': '<','&gt;': '>','&quot;': '\"','&apos;': \"'\"}\n",
        "    for k,v in rep_character_entity_refrences.items():\n",
        "        text = re.sub(k, v, text)\n",
        "    # Remove punctuations\n",
        "    text = re.sub(r'[^\\w\\s]', '', text)\n",
        "\n",
        "    # Remove digits\n",
        "    text = re.sub(r'\\d', '', text)\n",
        "\n",
        "    # removes all single letters surrounded with space except letters \"I\" and \"a\"\n",
        "    text = re.sub(r'(?:^|\\s)(?![ia])[a-z] +', ' ', text)\n",
        "    return text"
      ]
    },
    {
      "cell_type": "markdown",
      "metadata": {
        "id": "afHhiwZVQ6sf"
      },
      "source": [
        "## Filter out common stop words"
      ]
    },
    {
      "cell_type": "code",
      "execution_count": 10,
      "metadata": {
        "colab": {
          "base_uri": "https://localhost:8080/"
        },
        "id": "0yAPWJfH-wne",
        "outputId": "1282fa31-7955-40a7-df55-73a002fe90d8"
      },
      "outputs": [
        {
          "name": "stderr",
          "output_type": "stream",
          "text": [
            "[nltk_data] Downloading package stopwords to /root/nltk_data...\n",
            "[nltk_data]   Package stopwords is already up-to-date!\n"
          ]
        }
      ],
      "source": [
        "# spacy stopwords (\"me\", \"you\", \"we\", \"it\", \"they\", etc.)\n",
        "nlp = spacy.load(\"en_core_web_sm\")\n",
        "spacy_stopwords = list(nlp.Defaults.stop_words.copy())\n",
        "\n",
        "# nltk stopwords (\"the\", \"is\", \"at\", \"which\", etc.)\n",
        "nltk.download('stopwords')\n",
        "nltk_stopwords = stopwords.words('english')\n",
        "\n",
        "# create a set of all of the stopwords\n",
        "all_stopwords = set(nltk_stopwords + spacy_stopwords + ['absolutely', \"actually\"])\n",
        "\n",
        "def FilterStopWords(text:str) -> str:\n",
        "    '''\n",
        "    1. Filter out all the stop words\n",
        "    2. Combine the valid words\n",
        "    RETURNS: cleaned text\n",
        "    '''\n",
        "    filtered_words = [word for word in text.split() if word not in all_stopwords]\n",
        "    filtered_text = ' '.join(filtered_words)\n",
        "    return filtered_text"
      ]
    },
    {
      "cell_type": "markdown",
      "metadata": {
        "id": "IoT2YdvcSdrj"
      },
      "source": [
        "## Filter the DataFrame"
      ]
    },
    {
      "cell_type": "code",
      "execution_count": 11,
      "metadata": {
        "id": "Vl47oWY6_Lnn"
      },
      "outputs": [],
      "source": [
        "def TextProcessing(df):\n",
        "  df.keyword.fillna('no_keyword', inplace = True)\n",
        "  df.location.fillna('no_location', inplace = True)\n",
        "  # Create a new column that contains only the cleaned text\n",
        "  df.loc[:, 'text_cleaned'] = df.loc[:, 'text'].apply(lambda x: FilterSpecialChars(x))\n",
        "  # Create a new column that contains the cleaned text without any stopwords\n",
        "  df.loc[:, 'text_cleaned_wo_stopwords'] = df.loc[:, 'text_cleaned'].apply(lambda x: FilterStopWords(x))"
      ]
    },
    {
      "cell_type": "code",
      "execution_count": 12,
      "metadata": {
        "colab": {
          "base_uri": "https://localhost:8080/",
          "height": 206
        },
        "id": "JtFcQ8EwSCYV",
        "outputId": "1d192272-abc0-4413-ff48-8400cc0a89c4"
      },
      "outputs": [
        {
          "data": {
            "application/vnd.google.colaboratory.intrinsic+json": {
              "summary": "{\n  \"name\": \"df\",\n  \"rows\": 7613,\n  \"fields\": [\n    {\n      \"column\": \"id\",\n      \"properties\": {\n        \"dtype\": \"number\",\n        \"std\": 3137,\n        \"min\": 1,\n        \"max\": 10873,\n        \"num_unique_values\": 7613,\n        \"samples\": [\n          3796,\n          3185,\n          7769\n        ],\n        \"semantic_type\": \"\",\n        \"description\": \"\"\n      }\n    },\n    {\n      \"column\": \"keyword\",\n      \"properties\": {\n        \"dtype\": \"category\",\n        \"num_unique_values\": 222,\n        \"samples\": [\n          \"outbreak\",\n          \"wildfire\",\n          \"avalanche\"\n        ],\n        \"semantic_type\": \"\",\n        \"description\": \"\"\n      }\n    },\n    {\n      \"column\": \"location\",\n      \"properties\": {\n        \"dtype\": \"category\",\n        \"num_unique_values\": 3342,\n        \"samples\": [\n          \"L/S/Z/L/T/H/C/H/R/A/S/C\",\n          \"Milton/Tallahassee\",\n          \"Jamaica\"\n        ],\n        \"semantic_type\": \"\",\n        \"description\": \"\"\n      }\n    },\n    {\n      \"column\": \"text\",\n      \"properties\": {\n        \"dtype\": \"string\",\n        \"num_unique_values\": 7503,\n        \"samples\": [\n          \"Three Homes Demolished in Unrecognized Arab Village - International Middle East Media Center http://t.co/ik8m4Yi9T4\",\n          \"Reid Lake fire prompts campground evacuation order http://t.co/jBODKM6rBU\",\n          \"FAAN orders evacuation of abandoned aircraft at MMA http://t.co/dEvYbnVXGQ via @todayng\"\n        ],\n        \"semantic_type\": \"\",\n        \"description\": \"\"\n      }\n    },\n    {\n      \"column\": \"target\",\n      \"properties\": {\n        \"dtype\": \"number\",\n        \"std\": 0,\n        \"min\": 0,\n        \"max\": 1,\n        \"num_unique_values\": 2,\n        \"samples\": [\n          0,\n          1\n        ],\n        \"semantic_type\": \"\",\n        \"description\": \"\"\n      }\n    },\n    {\n      \"column\": \"label\",\n      \"properties\": {\n        \"dtype\": \"category\",\n        \"num_unique_values\": 2,\n        \"samples\": [\n          \"Not Disastrous\",\n          \"Disastrous\"\n        ],\n        \"semantic_type\": \"\",\n        \"description\": \"\"\n      }\n    },\n    {\n      \"column\": \"text_cleaned\",\n      \"properties\": {\n        \"dtype\": \"string\",\n        \"num_unique_values\": 6923,\n        \"samples\": [\n          \"free ebay sniping rt  chevrolet  avalanche ltz lifted truck please favorite  share\",\n          \"my favorite text \"\n        ],\n        \"semantic_type\": \"\",\n        \"description\": \"\"\n      }\n    },\n    {\n      \"column\": \"text_cleaned_wo_stopwords\",\n      \"properties\": {\n        \"dtype\": \"string\",\n        \"num_unique_values\": 6860,\n        \"samples\": [\n          \"josebasedgod im obliterate shadow realm\",\n          \"edwin wow crushed\"\n        ],\n        \"semantic_type\": \"\",\n        \"description\": \"\"\n      }\n    }\n  ]\n}",
              "type": "dataframe",
              "variable_name": "df"
            },
            "text/html": [
              "\n",
              "  <div id=\"df-63ae2d1a-3a1b-4f2b-9426-b7ce42d00ed1\" class=\"colab-df-container\">\n",
              "    <div>\n",
              "<style scoped>\n",
              "    .dataframe tbody tr th:only-of-type {\n",
              "        vertical-align: middle;\n",
              "    }\n",
              "\n",
              "    .dataframe tbody tr th {\n",
              "        vertical-align: top;\n",
              "    }\n",
              "\n",
              "    .dataframe thead th {\n",
              "        text-align: right;\n",
              "    }\n",
              "</style>\n",
              "<table border=\"1\" class=\"dataframe\">\n",
              "  <thead>\n",
              "    <tr style=\"text-align: right;\">\n",
              "      <th></th>\n",
              "      <th>id</th>\n",
              "      <th>keyword</th>\n",
              "      <th>location</th>\n",
              "      <th>text</th>\n",
              "      <th>target</th>\n",
              "      <th>label</th>\n",
              "      <th>text_cleaned</th>\n",
              "      <th>text_cleaned_wo_stopwords</th>\n",
              "    </tr>\n",
              "  </thead>\n",
              "  <tbody>\n",
              "    <tr>\n",
              "      <th>0</th>\n",
              "      <td>1</td>\n",
              "      <td>no_keyword</td>\n",
              "      <td>no_location</td>\n",
              "      <td>Our Deeds are the Reason of this #earthquake M...</td>\n",
              "      <td>1</td>\n",
              "      <td>Disastrous</td>\n",
              "      <td>our deeds are the reason of this earthquake ma...</td>\n",
              "      <td>deeds reason earthquake allah forgive</td>\n",
              "    </tr>\n",
              "    <tr>\n",
              "      <th>1</th>\n",
              "      <td>4</td>\n",
              "      <td>no_keyword</td>\n",
              "      <td>no_location</td>\n",
              "      <td>Forest fire near La Ronge Sask. Canada</td>\n",
              "      <td>1</td>\n",
              "      <td>Disastrous</td>\n",
              "      <td>forest fire near la ronge sask canada</td>\n",
              "      <td>forest fire near la ronge sask canada</td>\n",
              "    </tr>\n",
              "    <tr>\n",
              "      <th>2</th>\n",
              "      <td>5</td>\n",
              "      <td>no_keyword</td>\n",
              "      <td>no_location</td>\n",
              "      <td>All residents asked to 'shelter in place' are ...</td>\n",
              "      <td>1</td>\n",
              "      <td>Disastrous</td>\n",
              "      <td>all residents asked to shelter in place are be...</td>\n",
              "      <td>residents asked shelter place notified officer...</td>\n",
              "    </tr>\n",
              "    <tr>\n",
              "      <th>3</th>\n",
              "      <td>6</td>\n",
              "      <td>no_keyword</td>\n",
              "      <td>no_location</td>\n",
              "      <td>13,000 people receive #wildfires evacuation or...</td>\n",
              "      <td>1</td>\n",
              "      <td>Disastrous</td>\n",
              "      <td>people receive wildfires evacuation orders in...</td>\n",
              "      <td>people receive wildfires evacuation orders cal...</td>\n",
              "    </tr>\n",
              "    <tr>\n",
              "      <th>4</th>\n",
              "      <td>7</td>\n",
              "      <td>no_keyword</td>\n",
              "      <td>no_location</td>\n",
              "      <td>Just got sent this photo from Ruby #Alaska as ...</td>\n",
              "      <td>1</td>\n",
              "      <td>Disastrous</td>\n",
              "      <td>just got sent this photo from ruby alaska as s...</td>\n",
              "      <td>got sent photo ruby alaska smoke wildfires pou...</td>\n",
              "    </tr>\n",
              "  </tbody>\n",
              "</table>\n",
              "</div>\n",
              "    <div class=\"colab-df-buttons\">\n",
              "\n",
              "  <div class=\"colab-df-container\">\n",
              "    <button class=\"colab-df-convert\" onclick=\"convertToInteractive('df-63ae2d1a-3a1b-4f2b-9426-b7ce42d00ed1')\"\n",
              "            title=\"Convert this dataframe to an interactive table.\"\n",
              "            style=\"display:none;\">\n",
              "\n",
              "  <svg xmlns=\"http://www.w3.org/2000/svg\" height=\"24px\" viewBox=\"0 -960 960 960\">\n",
              "    <path d=\"M120-120v-720h720v720H120Zm60-500h600v-160H180v160Zm220 220h160v-160H400v160Zm0 220h160v-160H400v160ZM180-400h160v-160H180v160Zm440 0h160v-160H620v160ZM180-180h160v-160H180v160Zm440 0h160v-160H620v160Z\"/>\n",
              "  </svg>\n",
              "    </button>\n",
              "\n",
              "  <style>\n",
              "    .colab-df-container {\n",
              "      display:flex;\n",
              "      gap: 12px;\n",
              "    }\n",
              "\n",
              "    .colab-df-convert {\n",
              "      background-color: #E8F0FE;\n",
              "      border: none;\n",
              "      border-radius: 50%;\n",
              "      cursor: pointer;\n",
              "      display: none;\n",
              "      fill: #1967D2;\n",
              "      height: 32px;\n",
              "      padding: 0 0 0 0;\n",
              "      width: 32px;\n",
              "    }\n",
              "\n",
              "    .colab-df-convert:hover {\n",
              "      background-color: #E2EBFA;\n",
              "      box-shadow: 0px 1px 2px rgba(60, 64, 67, 0.3), 0px 1px 3px 1px rgba(60, 64, 67, 0.15);\n",
              "      fill: #174EA6;\n",
              "    }\n",
              "\n",
              "    .colab-df-buttons div {\n",
              "      margin-bottom: 4px;\n",
              "    }\n",
              "\n",
              "    [theme=dark] .colab-df-convert {\n",
              "      background-color: #3B4455;\n",
              "      fill: #D2E3FC;\n",
              "    }\n",
              "\n",
              "    [theme=dark] .colab-df-convert:hover {\n",
              "      background-color: #434B5C;\n",
              "      box-shadow: 0px 1px 3px 1px rgba(0, 0, 0, 0.15);\n",
              "      filter: drop-shadow(0px 1px 2px rgba(0, 0, 0, 0.3));\n",
              "      fill: #FFFFFF;\n",
              "    }\n",
              "  </style>\n",
              "\n",
              "    <script>\n",
              "      const buttonEl =\n",
              "        document.querySelector('#df-63ae2d1a-3a1b-4f2b-9426-b7ce42d00ed1 button.colab-df-convert');\n",
              "      buttonEl.style.display =\n",
              "        google.colab.kernel.accessAllowed ? 'block' : 'none';\n",
              "\n",
              "      async function convertToInteractive(key) {\n",
              "        const element = document.querySelector('#df-63ae2d1a-3a1b-4f2b-9426-b7ce42d00ed1');\n",
              "        const dataTable =\n",
              "          await google.colab.kernel.invokeFunction('convertToInteractive',\n",
              "                                                    [key], {});\n",
              "        if (!dataTable) return;\n",
              "\n",
              "        const docLinkHtml = 'Like what you see? Visit the ' +\n",
              "          '<a target=\"_blank\" href=https://colab.research.google.com/notebooks/data_table.ipynb>data table notebook</a>'\n",
              "          + ' to learn more about interactive tables.';\n",
              "        element.innerHTML = '';\n",
              "        dataTable['output_type'] = 'display_data';\n",
              "        await google.colab.output.renderOutput(dataTable, element);\n",
              "        const docLink = document.createElement('div');\n",
              "        docLink.innerHTML = docLinkHtml;\n",
              "        element.appendChild(docLink);\n",
              "      }\n",
              "    </script>\n",
              "  </div>\n",
              "\n",
              "\n",
              "<div id=\"df-0b3f82e5-7195-4814-84a4-4b8739d7498c\">\n",
              "  <button class=\"colab-df-quickchart\" onclick=\"quickchart('df-0b3f82e5-7195-4814-84a4-4b8739d7498c')\"\n",
              "            title=\"Suggest charts\"\n",
              "            style=\"display:none;\">\n",
              "\n",
              "<svg xmlns=\"http://www.w3.org/2000/svg\" height=\"24px\"viewBox=\"0 0 24 24\"\n",
              "     width=\"24px\">\n",
              "    <g>\n",
              "        <path d=\"M19 3H5c-1.1 0-2 .9-2 2v14c0 1.1.9 2 2 2h14c1.1 0 2-.9 2-2V5c0-1.1-.9-2-2-2zM9 17H7v-7h2v7zm4 0h-2V7h2v10zm4 0h-2v-4h2v4z\"/>\n",
              "    </g>\n",
              "</svg>\n",
              "  </button>\n",
              "\n",
              "<style>\n",
              "  .colab-df-quickchart {\n",
              "      --bg-color: #E8F0FE;\n",
              "      --fill-color: #1967D2;\n",
              "      --hover-bg-color: #E2EBFA;\n",
              "      --hover-fill-color: #174EA6;\n",
              "      --disabled-fill-color: #AAA;\n",
              "      --disabled-bg-color: #DDD;\n",
              "  }\n",
              "\n",
              "  [theme=dark] .colab-df-quickchart {\n",
              "      --bg-color: #3B4455;\n",
              "      --fill-color: #D2E3FC;\n",
              "      --hover-bg-color: #434B5C;\n",
              "      --hover-fill-color: #FFFFFF;\n",
              "      --disabled-bg-color: #3B4455;\n",
              "      --disabled-fill-color: #666;\n",
              "  }\n",
              "\n",
              "  .colab-df-quickchart {\n",
              "    background-color: var(--bg-color);\n",
              "    border: none;\n",
              "    border-radius: 50%;\n",
              "    cursor: pointer;\n",
              "    display: none;\n",
              "    fill: var(--fill-color);\n",
              "    height: 32px;\n",
              "    padding: 0;\n",
              "    width: 32px;\n",
              "  }\n",
              "\n",
              "  .colab-df-quickchart:hover {\n",
              "    background-color: var(--hover-bg-color);\n",
              "    box-shadow: 0 1px 2px rgba(60, 64, 67, 0.3), 0 1px 3px 1px rgba(60, 64, 67, 0.15);\n",
              "    fill: var(--button-hover-fill-color);\n",
              "  }\n",
              "\n",
              "  .colab-df-quickchart-complete:disabled,\n",
              "  .colab-df-quickchart-complete:disabled:hover {\n",
              "    background-color: var(--disabled-bg-color);\n",
              "    fill: var(--disabled-fill-color);\n",
              "    box-shadow: none;\n",
              "  }\n",
              "\n",
              "  .colab-df-spinner {\n",
              "    border: 2px solid var(--fill-color);\n",
              "    border-color: transparent;\n",
              "    border-bottom-color: var(--fill-color);\n",
              "    animation:\n",
              "      spin 1s steps(1) infinite;\n",
              "  }\n",
              "\n",
              "  @keyframes spin {\n",
              "    0% {\n",
              "      border-color: transparent;\n",
              "      border-bottom-color: var(--fill-color);\n",
              "      border-left-color: var(--fill-color);\n",
              "    }\n",
              "    20% {\n",
              "      border-color: transparent;\n",
              "      border-left-color: var(--fill-color);\n",
              "      border-top-color: var(--fill-color);\n",
              "    }\n",
              "    30% {\n",
              "      border-color: transparent;\n",
              "      border-left-color: var(--fill-color);\n",
              "      border-top-color: var(--fill-color);\n",
              "      border-right-color: var(--fill-color);\n",
              "    }\n",
              "    40% {\n",
              "      border-color: transparent;\n",
              "      border-right-color: var(--fill-color);\n",
              "      border-top-color: var(--fill-color);\n",
              "    }\n",
              "    60% {\n",
              "      border-color: transparent;\n",
              "      border-right-color: var(--fill-color);\n",
              "    }\n",
              "    80% {\n",
              "      border-color: transparent;\n",
              "      border-right-color: var(--fill-color);\n",
              "      border-bottom-color: var(--fill-color);\n",
              "    }\n",
              "    90% {\n",
              "      border-color: transparent;\n",
              "      border-bottom-color: var(--fill-color);\n",
              "    }\n",
              "  }\n",
              "</style>\n",
              "\n",
              "  <script>\n",
              "    async function quickchart(key) {\n",
              "      const quickchartButtonEl =\n",
              "        document.querySelector('#' + key + ' button');\n",
              "      quickchartButtonEl.disabled = true;  // To prevent multiple clicks.\n",
              "      quickchartButtonEl.classList.add('colab-df-spinner');\n",
              "      try {\n",
              "        const charts = await google.colab.kernel.invokeFunction(\n",
              "            'suggestCharts', [key], {});\n",
              "      } catch (error) {\n",
              "        console.error('Error during call to suggestCharts:', error);\n",
              "      }\n",
              "      quickchartButtonEl.classList.remove('colab-df-spinner');\n",
              "      quickchartButtonEl.classList.add('colab-df-quickchart-complete');\n",
              "    }\n",
              "    (() => {\n",
              "      let quickchartButtonEl =\n",
              "        document.querySelector('#df-0b3f82e5-7195-4814-84a4-4b8739d7498c button');\n",
              "      quickchartButtonEl.style.display =\n",
              "        google.colab.kernel.accessAllowed ? 'block' : 'none';\n",
              "    })();\n",
              "  </script>\n",
              "</div>\n",
              "\n",
              "    </div>\n",
              "  </div>\n"
            ],
            "text/plain": [
              "   id     keyword     location  \\\n",
              "0   1  no_keyword  no_location   \n",
              "1   4  no_keyword  no_location   \n",
              "2   5  no_keyword  no_location   \n",
              "3   6  no_keyword  no_location   \n",
              "4   7  no_keyword  no_location   \n",
              "\n",
              "                                                text  target       label  \\\n",
              "0  Our Deeds are the Reason of this #earthquake M...       1  Disastrous   \n",
              "1             Forest fire near La Ronge Sask. Canada       1  Disastrous   \n",
              "2  All residents asked to 'shelter in place' are ...       1  Disastrous   \n",
              "3  13,000 people receive #wildfires evacuation or...       1  Disastrous   \n",
              "4  Just got sent this photo from Ruby #Alaska as ...       1  Disastrous   \n",
              "\n",
              "                                        text_cleaned  \\\n",
              "0  our deeds are the reason of this earthquake ma...   \n",
              "1              forest fire near la ronge sask canada   \n",
              "2  all residents asked to shelter in place are be...   \n",
              "3   people receive wildfires evacuation orders in...   \n",
              "4  just got sent this photo from ruby alaska as s...   \n",
              "\n",
              "                           text_cleaned_wo_stopwords  \n",
              "0              deeds reason earthquake allah forgive  \n",
              "1              forest fire near la ronge sask canada  \n",
              "2  residents asked shelter place notified officer...  \n",
              "3  people receive wildfires evacuation orders cal...  \n",
              "4  got sent photo ruby alaska smoke wildfires pou...  "
            ]
          },
          "execution_count": 12,
          "metadata": {},
          "output_type": "execute_result"
        }
      ],
      "source": [
        "TextProcessing(df)\n",
        "df.head()"
      ]
    },
    {
      "cell_type": "markdown",
      "metadata": {
        "id": "e-frGnbYANOu"
      },
      "source": [
        "# Plot the cleaned data"
      ]
    },
    {
      "cell_type": "markdown",
      "metadata": {
        "id": "Ky55MRG2Ssz1"
      },
      "source": [
        "## Most Frequent Words"
      ]
    },
    {
      "cell_type": "code",
      "execution_count": 13,
      "metadata": {
        "colab": {
          "base_uri": "https://localhost:8080/",
          "height": 536
        },
        "id": "09XrXY0oASUV",
        "outputId": "5a71f56a-163b-4761-e18a-a288a57a073d"
      },
      "outputs": [
        {
          "data": {
            "image/png": "[encoded data removed]",
            "text/plain": [
              "<Figure size 640x480 with 1 Axes>"
            ]
          },
          "metadata": {},
          "output_type": "display_data"
        }
      ],
      "source": [
        "tokens = []\n",
        "for text in df[df.target==1]['text_cleaned_wo_stopwords']:\n",
        "    tokens.extend(word_tokenize(text))\n",
        "freq_dist = FreqDist(tokens)\n",
        "most_common_words = freq_dist.most_common(20)\n",
        "\n",
        "words, counts = zip(*most_common_words)\n",
        "plt.bar(words, counts)\n",
        "plt.xlabel(\"Words\")\n",
        "plt.ylabel(\"Frequency\")\n",
        "plt.title(\"Most Frequent Words in Disasterous Tweets\")\n",
        "plt.xticks(rotation=90)\n",
        "\n",
        "plt.show()"
      ]
    },
    {
      "cell_type": "markdown",
      "metadata": {
        "id": "kncHvDghAmv0"
      },
      "source": [
        "# Implement Machine Learning Models\n"
      ]
    },
    {
      "cell_type": "markdown",
      "metadata": {
        "id": "y9LGjVuWVMWl"
      },
      "source": [
        "## Create a CountVectorizer"
      ]
    },
    {
      "cell_type": "code",
      "execution_count": 14,
      "metadata": {
        "colab": {
          "base_uri": "https://localhost:8080/"
        },
        "id": "3OviYTCkAh3z",
        "outputId": "0c84d305-bdc3-40e0-f093-410e41b5e6a9"
      },
      "outputs": [
        {
          "data": {
            "text/plain": [
              "(7613, 16901)"
            ]
          },
          "execution_count": 14,
          "metadata": {},
          "output_type": "execute_result"
        }
      ],
      "source": [
        "counter_vectorizer = CountVectorizer()\n",
        "# Fit the df\n",
        "counter_vectorizer.fit(df.text_cleaned_wo_stopwords)\n",
        "# Transform the df\n",
        "transformed_rows = counter_vectorizer.transform(df.text_cleaned_wo_stopwords).todense()\n",
        "transformed_rows.shape"
      ]
    },
    {
      "cell_type": "markdown",
      "metadata": {
        "id": "fnbwF-thVQrT"
      },
      "source": [
        "## Pipelines"
      ]
    },
    {
      "cell_type": "code",
      "execution_count": 15,
      "metadata": {
        "id": "KJHDY8PuVVA_"
      },
      "outputs": [],
      "source": [
        "# Create a Ridge Classifier pipeline\n",
        "ridge_pipeline = Pipeline([\n",
        "    ('feature_selection', SelectKBest(f_classif, k=100)),\n",
        "    ('classifier', RidgeClassifier())\n",
        "])\n",
        "\n",
        "# Create a Naive Bayes pipeline\n",
        "naive_bayes_pipeline = Pipeline([\n",
        "    ('feature_selection', SelectKBest(f_classif, k=100)),\n",
        "    ('classifier', MultinomialNB())\n",
        "])\n",
        "\n",
        "# Create a SVM pipeline\n",
        "linear_svm_pipeline = Pipeline([\n",
        "    ('feature_selection', SelectKBest(f_classif, k=100)),\n",
        "    ('classifier', SVC(kernel='linear'))\n",
        "])\n",
        "\n",
        "classifiers = {\n",
        "    'Ridge Classifier': ridge_pipeline,\n",
        "    'Naive Bayes': naive_bayes_pipeline,\n",
        "    'Linear SVM': linear_svm_pipeline\n",
        "}"
      ]
    },
    {
      "cell_type": "markdown",
      "metadata": {
        "id": "s6tecg_DVVM6"
      },
      "source": [
        "### Comparisons"
      ]
    },
    {
      "cell_type": "code",
      "execution_count": 16,
      "metadata": {
        "colab": {
          "base_uri": "https://localhost:8080/"
        },
        "id": "ZN-PjN5LAqgH",
        "outputId": "3ade73d1-ad01-4c18-d1bf-7db12ffc9bc6"
      },
      "outputs": [
        {
          "name": "stdout",
          "output_type": "stream",
          "text": [
            "-------------------------------\n",
            "Results for Ridge Classifier:\n",
            "Accuracy: 0.73\n",
            "Precision: 0.81\n",
            "Recall: 0.49\n",
            "F1 Score: 0.61\n",
            "Confusion Matrix:\n",
            "[[3975  367]\n",
            " [1682 1589]]\n",
            "-------------------------------\n",
            "-------------------------------\n",
            "Results for Naive Bayes:\n",
            "Accuracy: 0.71\n",
            "Precision: 0.86\n",
            "Recall: 0.39\n",
            "F1 Score: 0.53\n",
            "Confusion Matrix:\n",
            "[[4137  205]\n",
            " [2007 1264]]\n",
            "-------------------------------\n",
            "-------------------------------\n",
            "Results for Linear SVM:\n",
            "Accuracy: 0.73\n",
            "Precision: 0.80\n",
            "Recall: 0.50\n",
            "F1 Score: 0.61\n",
            "Confusion Matrix:\n",
            "[[3928  414]\n",
            " [1637 1634]]\n",
            "-------------------------------\n"
          ]
        }
      ],
      "source": [
        "np.random.seed(0)\n",
        "X = np.asarray(transformed_rows)\n",
        "y = df.target.values.reshape(-1, 1)\n",
        "cv = StratifiedKFold(n_splits=5, shuffle=True, random_state=0)\n",
        "\n",
        "for name, clf in classifiers.items():\n",
        "    y_pred = cross_val_predict(clf, X, y, cv=cv)\n",
        "    accuracy = accuracy_score(y, y_pred)\n",
        "    precision = precision_score(y, y_pred)\n",
        "    recall = recall_score(y, y_pred)\n",
        "    f1 = f1_score(y, y_pred)\n",
        "    conf_matrix = confusion_matrix(y, y_pred)\n",
        "    print('-------------------------------')\n",
        "    print(f'Results for {name}:')\n",
        "    print(f'Accuracy: {accuracy:.2f}')\n",
        "    print(f'Precision: {precision:.2f}')\n",
        "    print(f'Recall: {recall:.2f}')\n",
        "    print(f'F1 Score: {f1:.2f}')\n",
        "    print(f'Confusion Matrix:\\n{conf_matrix}')\n",
        "    print('-------------------------------')"
      ]
    },
    {
      "cell_type": "markdown",
      "metadata": {
        "id": "M5g1yEopUTUQ"
      },
      "source": [
        "# Make Predictions with the best Model"
      ]
    },
    {
      "cell_type": "markdown",
      "metadata": {
        "id": "mBdOVq9XUawQ"
      },
      "source": [
        "## Tweet Data Entry"
      ]
    },
    {
      "cell_type": "code",
      "execution_count": 17,
      "metadata": {
        "id": "tLL3HfGOMpY9"
      },
      "outputs": [],
      "source": [
        "keyword = \"no_keyword\"\n",
        "location = \"no_location\"\n",
        "text = \"Typhoon Soudelor kills 28 in China and Taiwan\"\n",
        "tweet = pd.DataFrame({\"keyword\": [keyword], \"location\": [location], \"text\": [text]})"
      ]
    },
    {
      "cell_type": "markdown",
      "metadata": {
        "id": "am20UYd1UeDn"
      },
      "source": [
        "## Tweet disastrous status"
      ]
    },
    {
      "cell_type": "code",
      "execution_count": 18,
      "metadata": {
        "id": "6UliuEZHN1Sy"
      },
      "outputs": [],
      "source": [
        "naive_bayes_pipeline.fit(X, y)\n",
        "def IsTweetDisastrous(single_df_entry):\n",
        "  TextProcessing(single_df_entry)\n",
        "  values = np.asarray(counter_vectorizer.transform(single_df_entry.text_cleaned_wo_stopwords).todense())\n",
        "  return decode_map[int(naive_bayes_pipeline.predict(values))]"
      ]
    },
    {
      "cell_type": "code",
      "execution_count": 19,
      "metadata": {
        "colab": {
          "base_uri": "https://localhost:8080/"
        },
        "id": "HSMJDhvfYTtG",
        "outputId": "441b1046-4e09-474c-f1d2-5b9e96d9c707"
      },
      "outputs": [
        {
          "name": "stdout",
          "output_type": "stream",
          "text": [
            "Disastrous\n"
          ]
        }
      ],
      "source": [
        "print(IsTweetDisastrous(tweet))"
      ]
    },
    {
      "cell_type": "code",
      "execution_count": 20,
      "metadata": {
        "colab": {
          "base_uri": "https://localhost:8080/",
          "height": 35
        },
        "id": "HNjSTdy8XbVv",
        "outputId": "3b0d7acd-76b1-47e9-ae27-d8a7ea85577f"
      },
      "outputs": [
        {
          "data": {
            "application/vnd.google.colaboratory.intrinsic+json": {
              "type": "string"
            },
            "text/plain": [
              "'Just happened a terrible car crash'"
            ]
          },
          "execution_count": 20,
          "metadata": {},
          "output_type": "execute_result"
        }
      ],
      "source": [
        "df_new = pd.read_csv(\"/content/test.csv\") #renamed data.csv from train.csv\n",
        "df_new = df_new[:2]\n",
        "df_new.head()\n",
        "df_new.text.iloc[0]"
      ]
    },
    {
      "cell_type": "code",
      "execution_count": 21,
      "metadata": {
        "colab": {
          "base_uri": "https://localhost:8080/"
        },
        "id": "rX0HpRL6Y3eu",
        "outputId": "2be91f17-941d-4b19-fa8e-5eed8f25c8bd"
      },
      "outputs": [
        {
          "name": "stdout",
          "output_type": "stream",
          "text": [
            "Original: 0    Just happened a terrible car crash\n",
            "Name: text, dtype: object\n",
            "Modified: 0    happened terrible car crash\n",
            "Name: text_cleaned_wo_stopwords, dtype: object\n",
            "Result: Not Disastrous \n",
            "\n",
            "Original: 0    Heard about #earthquake is different cities, s...\n",
            "Name: text, dtype: object\n",
            "Modified: 0    heard earthquake different cities stay safe\n",
            "Name: text_cleaned_wo_stopwords, dtype: object\n",
            "Result: Disastrous \n",
            "\n"
          ]
        }
      ],
      "source": [
        "for i in range(len(df_new)):\n",
        "  new_entry_df = pd.DataFrame({\"keyword\": [df_new.keyword.iloc[i]],\n",
        "                               \"location\": [df_new.location.iloc[i]],\n",
        "                               \"text\": [df_new.text.iloc[i]]})\n",
        "  dis_result = IsTweetDisastrous(new_entry_df)\n",
        "  print(\"Original:\", new_entry_df['text'])\n",
        "  print(\"Modified:\", new_entry_df['text_cleaned_wo_stopwords'])\n",
        "  print(\"Result:\", dis_result, \"\\n\")"
      ]
    }
  ],
  "metadata": {
    "colab": {
      "provenance": [],
      "toc_visible": true
    },
    "kernelspec": {
      "display_name": "Python 3",
      "name": "python3"
    },
    "language_info": {
      "name": "python"
    }
  },
  "nbformat": 4,
  "nbformat_minor": 0
}
